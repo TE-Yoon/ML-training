{
  "nbformat": 4,
  "nbformat_minor": 0,
  "metadata": {
    "colab": {
      "name": "Math.ipynb",
      "provenance": [],
      "authorship_tag": "ABX9TyOhxNBT+Q3yAy2kG9fe2/Q/",
      "include_colab_link": true
    },
    "kernelspec": {
      "name": "python3",
      "display_name": "Python 3"
    }
  },
  "cells": [
    {
      "cell_type": "markdown",
      "metadata": {
        "id": "view-in-github",
        "colab_type": "text"
      },
      "source": [
        "<a href=\"https://colab.research.google.com/github/TE-Yoon/ML-training/blob/main/Math.ipynb\" target=\"_parent\"><img src=\"https://colab.research.google.com/assets/colab-badge.svg\" alt=\"Open In Colab\"/></a>"
      ]
    },
    {
      "cell_type": "code",
      "metadata": {
        "id": "O2pWaiIm-i8a"
      },
      "source": [
        "import numpy as np\n",
        "import matplotlib.pyplot as plt\n"
      ],
      "execution_count": null,
      "outputs": []
    },
    {
      "cell_type": "code",
      "metadata": {
        "colab": {
          "base_uri": "https://localhost:8080/",
          "height": 283
        },
        "id": "JJP3NZYe-nAn",
        "outputId": "0624836f-ddb5-4f0d-85aa-bb8e0f510165"
      },
      "source": [
        "## Taylor series by using Recussive function\n",
        "def taylor(x,n):\n",
        "  if n == 0:\n",
        "    return 1\n",
        "  else:\n",
        "    return taylor(x,n-1) + 1/np.math.factorial(n)* (x**n)\n",
        "\n",
        "## result checking code\n",
        "\n",
        "# twinx() : shared X-axis \n",
        "xi = np.linspace(-1.5,1.5,100)\n",
        "fig, ax1 = plt.subplots()\n",
        "ax1.set_title('$ y=e^x $ : taylor approxmination')\n",
        "ax2 = ax1.twinx()\n",
        "\n",
        "# ax1 : left Y-aixs , values of exponential and approximation\n",
        "ax1.plot(xi,np.exp(xi),'b-',label='$ y=e^x $', markersize=2)\n",
        "ax1.plot(xi,taylor(xi,3),'g-',label='3th taylor series', markersize=1.5)\n",
        "ax1.plot(xi,taylor(xi,5),'r-',label='5th taylor series', markersize=1.5)\n",
        "ax1.set_yscale('log')\n",
        "ax1.set_ylabel('value')\n",
        "ax1.legend()\n",
        "\n",
        "# ax2 : right Y-axis,  error rate = (true value - approximation)/true value\n",
        "ax2.plot(xi,np.abs((np.exp(xi)-taylor(xi,3))/np.exp(xi)),'go',label='error rate(3th taylor)', markersize=1.5)\n",
        "ax2.plot(xi,np.abs((np.exp(xi)-taylor(xi,5))/np.exp(xi)),'ro',label='error rate(5th taylor)', markersize=1.5)\n",
        "ax2.set_yscale('log')\n",
        "ax2.set_ylabel('error rate')\n",
        "ax2.legend()\n",
        "plt.show()\n"
      ],
      "execution_count": null,
      "outputs": [
        {
          "output_type": "display_data",
          "data": {
            "image/png": "[encoded data removed]",
            "text/plain": [
              "<Figure size 432x288 with 2 Axes>"
            ]
          },
          "metadata": {
            "tags": [],
            "needs_background": "light"
          }
        }
      ]
    },
    {
      "cell_type": "code",
      "metadata": {
        "colab": {
          "base_uri": "https://localhost:8080/"
        },
        "id": "OFCJWBBl-_kE",
        "outputId": "346eb701-3e7e-4c8a-c0c0-129d221041cb"
      },
      "source": [
        "## factoriaㅣ by recurssive\n",
        "def my_factorial(n):\n",
        "  if n == 0:\n",
        "    return 1\n",
        "  else:\n",
        "    return n*my_factorial(n-1)\n",
        "\n",
        "print('------my factorial function------')\n",
        "for i in range(10):\n",
        "  print('{}th factorial:'.format(i), my_factorial(i))\n"
      ],
      "execution_count": null,
      "outputs": [
        {
          "output_type": "stream",
          "text": [
            "------my factorial function------\n",
            "0th factorial: 1\n",
            "1th factorial: 1\n",
            "2th factorial: 2\n",
            "3th factorial: 6\n",
            "4th factorial: 24\n",
            "5th factorial: 120\n",
            "6th factorial: 720\n",
            "7th factorial: 5040\n",
            "8th factorial: 40320\n",
            "9th factorial: 362880\n"
          ],
          "name": "stdout"
        }
      ]
    },
    {
      "cell_type": "code",
      "metadata": {
        "colab": {
          "base_uri": "https://localhost:8080/"
        },
        "id": "A4O1ZhZKyjMG",
        "outputId": "824a9631-73b5-4a97-e101-fb3379f066fc"
      },
      "source": [
        "## built-in factorial function ##\n",
        "for i in range(10):\n",
        "  print('{}th factorial:'.format(i), np.math.factorial(i))\n"
      ],
      "execution_count": null,
      "outputs": [
        {
          "output_type": "stream",
          "text": [
            "0th factorial: 1\n",
            "1th factorial: 1\n",
            "2th factorial: 2\n",
            "3th factorial: 6\n",
            "4th factorial: 24\n",
            "5th factorial: 120\n",
            "6th factorial: 720\n",
            "7th factorial: 5040\n",
            "8th factorial: 40320\n",
            "9th factorial: 362880\n"
          ],
          "name": "stdout"
        }
      ]
    },
    {
      "cell_type": "code",
      "metadata": {
        "id": "xmN_8Xpu_hM3"
      },
      "source": [
        ""
      ],
      "execution_count": null,
      "outputs": []
    }
  ]
}